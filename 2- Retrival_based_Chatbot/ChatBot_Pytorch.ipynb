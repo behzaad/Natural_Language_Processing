{
  "nbformat": 4,
  "nbformat_minor": 0,
  "metadata": {
    "colab": {
      "name": "ChatBot_Pytorch.ipynb",
      "provenance": [],
      "collapsed_sections": []
    },
    "kernelspec": {
      "name": "python3",
      "display_name": "Python 3"
    },
    "language_info": {
      "name": "python"
    }
  },
  "cells": [
    {
      "cell_type": "markdown",
      "source": [
        "**Introduction:**\n",
        "\n",
        "In this notebook, we implement a *retrival*-based chatbot, which is trained to provide the best possible response from a database of predefined responses using ML techniques. "
      ],
      "metadata": {
        "id": "rMjEhSGt2SOu"
      }
    },
    {
      "cell_type": "markdown",
      "source": [
        "**Required packages:**"
      ],
      "metadata": {
        "id": "apgax0Ww2tTQ"
      }
    },
    {
      "cell_type": "code",
      "source": [
        "import numpy as np\n",
        "import json\n",
        "\n",
        "import random\n",
        "\n",
        "import torch\n",
        "import torch.nn as nn\n",
        "from torch.utils.data import Dataset, DataLoader\n",
        "\n",
        "import nltk\n",
        "nltk.download('punkt')\n",
        "from nltk.stem.porter import PorterStemmer\n",
        "stemmer = PorterStemmer()"
      ],
      "metadata": {
        "colab": {
          "base_uri": "https://localhost:8080/"
        },
        "id": "BKTAZHL751M9",
        "outputId": "fb55ba81-73e4-41dc-fc77-81cd2ab447f8"
      },
      "execution_count": 26,
      "outputs": [
        {
          "output_type": "stream",
          "name": "stdout",
          "text": [
            "[nltk_data] Downloading package punkt to /root/nltk_data...\n",
            "[nltk_data]   Package punkt is already up-to-date!\n"
          ]
        }
      ]
    },
    {
      "cell_type": "markdown",
      "source": [
        "**Loading the dataset:**"
      ],
      "metadata": {
        "id": "z9ky3xEtyLrf"
      }
    },
    {
      "cell_type": "code",
      "source": [
        "with open('intents.json', 'r') as f:\n",
        "  intents = json.load(f)"
      ],
      "metadata": {
        "id": "Fq1k1Eh21gpA"
      },
      "execution_count": 11,
      "outputs": []
    },
    {
      "cell_type": "markdown",
      "source": [
        "Let's take a look at the dataset:"
      ],
      "metadata": {
        "id": "oXdlWfY3282Y"
      }
    },
    {
      "cell_type": "code",
      "source": [
        "intents['intents'][0]"
      ],
      "metadata": {
        "colab": {
          "base_uri": "https://localhost:8080/"
        },
        "id": "3UBXNNhn3K34",
        "outputId": "a16885bb-51d3-4786-d21a-0dd2dba243b0"
      },
      "execution_count": 38,
      "outputs": [
        {
          "output_type": "execute_result",
          "data": {
            "text/plain": [
              "{'patterns': ['Hi',\n",
              "  'Hey',\n",
              "  'How are you',\n",
              "  'Is anyone there?',\n",
              "  'Hello',\n",
              "  'Good day'],\n",
              " 'responses': ['Hey :-)',\n",
              "  'Hello, thanks for visiting',\n",
              "  'Hi there, what can I do for you?',\n",
              "  'Hi there, how can I help?'],\n",
              " 'tag': 'greeting'}"
            ]
          },
          "metadata": {},
          "execution_count": 38
        }
      ]
    },
    {
      "cell_type": "markdown",
      "source": [
        "As can be seen, it has several sample question patterns, several possible responses, and also a tag. The tag is used to categorize the input sentence to one of the given categories. "
      ],
      "metadata": {
        "id": "YtJzNsvX3Vv1"
      }
    },
    {
      "cell_type": "markdown",
      "source": [
        "**Preprocess the data:**"
      ],
      "metadata": {
        "id": "oTbu37B46NbK"
      }
    },
    {
      "cell_type": "code",
      "source": [
        "def tokenize(sentence):\n",
        "    return nltk.word_tokenize(sentence)\n",
        "\n",
        "def stem(word):\n",
        "    return stemmer.stem(word.lower())\n",
        "\n",
        "\n",
        "def bag_of_words(tokenized_sentence, words):\n",
        "  \"\"\"\n",
        "  words is the list of all words in dictionary\n",
        "  \"\"\"\n",
        "    \n",
        "  # stem each word\n",
        "  sentence_words = [stem(word) for word in tokenized_sentence]\n",
        "  # initialize bag with 0 for each word\n",
        "  bag = np.zeros(len(words), dtype=np.float32)\n",
        "  for idx, w in enumerate(words):\n",
        "      if w in sentence_words: \n",
        "          bag[idx] = 1\n",
        "\n",
        "  return bag"
      ],
      "metadata": {
        "id": "V1erieL11m_S"
      },
      "execution_count": 39,
      "outputs": []
    },
    {
      "cell_type": "markdown",
      "source": [
        "Now, we process the given dataset to prepare a dictionary (list of all unique words) and also the list of all available tags."
      ],
      "metadata": {
        "id": "6zAISygG4CWi"
      }
    },
    {
      "cell_type": "code",
      "source": [
        "all_words = []\n",
        "tags = []\n",
        "xy = []\n",
        "# loop through each sentence in our intents patterns\n",
        "for intent in intents['intents']:\n",
        "    tag = intent['tag']\n",
        "    # add to tag list\n",
        "    tags.append(tag)\n",
        "    for pattern in intent['patterns']:\n",
        "        # tokenize each word in the sentence\n",
        "        w = tokenize(pattern)\n",
        "        # add to our words list\n",
        "        all_words.extend(w)\n",
        "        # add to xy pair\n",
        "        xy.append((w, tag))\n",
        "\n",
        "\n",
        "# stem and lower each word\n",
        "ignore_words = ['?', '.', '!']\n",
        "all_words = [stem(w) for w in all_words if w not in ignore_words]\n",
        "# remove duplicates and sort\n",
        "all_words = sorted(set(all_words))\n",
        "tags = sorted(set(tags))"
      ],
      "metadata": {
        "id": "Ur1iBRa0q8c3"
      },
      "execution_count": 40,
      "outputs": []
    },
    {
      "cell_type": "markdown",
      "source": [
        "**Creating training data:**"
      ],
      "metadata": {
        "id": "McqYUBrz4TVc"
      }
    },
    {
      "cell_type": "code",
      "source": [
        "X_train = []\n",
        "y_train = []\n",
        "for (pattern_sentence, tag) in xy:\n",
        "    # X: bag of words for each pattern_sentence\n",
        "    bag = bag_of_words(pattern_sentence, all_words)\n",
        "    X_train.append(bag)\n",
        "    # y: PyTorch CrossEntropyLoss needs only class labels, not one-hot\n",
        "    label = tags.index(tag)\n",
        "    y_train.append(label)\n",
        "\n",
        "X_train = np.array(X_train)\n",
        "y_train = np.array(y_train)\n",
        "\n",
        "\n",
        "\n",
        "class ChatDataset(Dataset):\n",
        "\n",
        "    def __init__(self):\n",
        "        self.n_samples = len(X_train)\n",
        "        self.x_data = X_train\n",
        "        self.y_data = y_train\n",
        "\n",
        "    # support indexing such that dataset[i] can be used to get i-th sample\n",
        "    def __getitem__(self, index):\n",
        "        return self.x_data[index], self.y_data[index]\n",
        "\n",
        "    # we can call len(dataset) to return the size\n",
        "    def __len__(self):\n",
        "        return self.n_samples\n",
        "        \n"
      ],
      "metadata": {
        "id": "4jeaBgz2sH4S"
      },
      "execution_count": 41,
      "outputs": []
    },
    {
      "cell_type": "markdown",
      "source": [
        "**Hyperparameters:**"
      ],
      "metadata": {
        "id": "V36RNo0a4lDj"
      }
    },
    {
      "cell_type": "code",
      "source": [
        "# Hyper-parameters \n",
        "num_epochs = 10000\n",
        "batch_size = 8\n",
        "learning_rate = 0.001\n",
        "input_size = len(X_train[0])\n",
        "hidden_size = 8\n",
        "output_size = len(tags)"
      ],
      "metadata": {
        "id": "KPZqHTspr_Va"
      },
      "execution_count": 42,
      "outputs": []
    },
    {
      "cell_type": "code",
      "source": [
        "dataset = ChatDataset()\n",
        "train_loader = DataLoader(dataset=dataset,\n",
        "                          batch_size=batch_size,\n",
        "                          shuffle=True,\n",
        "                          num_workers=0)\n"
      ],
      "metadata": {
        "id": "VPJvoDD1w-pC"
      },
      "execution_count": 43,
      "outputs": []
    },
    {
      "cell_type": "markdown",
      "source": [
        "**Creating the neural network:**"
      ],
      "metadata": {
        "id": "0FN2ByOu4wfy"
      }
    },
    {
      "cell_type": "code",
      "source": [
        "device = torch.device('cuda' if torch.cuda.is_available() else 'cpu')\n",
        "\n",
        "class NeuralNet(nn.Module):\n",
        "    def __init__(self, input_size, hidden_size, num_classes):\n",
        "        super(NeuralNet, self).__init__()\n",
        "        self.l1 = nn.Linear(input_size, hidden_size) \n",
        "        self.l2 = nn.Linear(hidden_size, hidden_size) \n",
        "        self.l3 = nn.Linear(hidden_size, num_classes)\n",
        "        self.relu = nn.ReLU()\n",
        "    \n",
        "    def forward(self, x):\n",
        "        out = self.l1(x)\n",
        "        out = self.relu(out)\n",
        "        out = self.l2(out)\n",
        "        out = self.relu(out)\n",
        "        out = self.l3(out)\n",
        "        # no activation and no softmax at the end\n",
        "        return out"
      ],
      "metadata": {
        "id": "w0mYWRz-xFJh"
      },
      "execution_count": 31,
      "outputs": []
    },
    {
      "cell_type": "code",
      "source": [
        "model = NeuralNet(input_size, hidden_size, output_size).to(device)\n",
        "\n",
        "# Loss and optimizer\n",
        "criterion = nn.CrossEntropyLoss()\n",
        "optimizer = torch.optim.Adam(model.parameters(), lr=learning_rate)"
      ],
      "metadata": {
        "id": "6DahnvmPxHwi"
      },
      "execution_count": 32,
      "outputs": []
    },
    {
      "cell_type": "markdown",
      "source": [
        "**Training Loop:**"
      ],
      "metadata": {
        "id": "tQ2mEwwg47AK"
      }
    },
    {
      "cell_type": "code",
      "source": [
        "for epoch in range(num_epochs):\n",
        "    for (words, labels) in train_loader:\n",
        "        words = words.to(device)\n",
        "        labels = labels.to(dtype=torch.long).to(device)\n",
        "        \n",
        "        outputs = model(words)\n",
        "        # if y would be one-hot, we must apply\n",
        "        # labels = torch.max(labels, 1)[1]\n",
        "        loss = criterion(outputs, labels)\n",
        "        \n",
        "        # Backward and optimize\n",
        "        optimizer.zero_grad()\n",
        "        loss.backward()\n",
        "        optimizer.step()\n",
        "        \n",
        "    if (epoch+1) % 100 == 0:\n",
        "        print (f'Epoch [{epoch+1}/{num_epochs}], Loss: {loss.item():.4f}')\n",
        "\n",
        "\n",
        "print(f'final loss: {loss.item():.4f}')\n",
        "\n"
      ],
      "metadata": {
        "colab": {
          "base_uri": "https://localhost:8080/"
        },
        "id": "0xsDcDOnxKk5",
        "outputId": "3d9ba0b1-2bae-4f70-d69c-f786eb6dd392"
      },
      "execution_count": 33,
      "outputs": [
        {
          "output_type": "stream",
          "name": "stdout",
          "text": [
            "Epoch [100/10000], Loss: 1.1567\n",
            "Epoch [200/10000], Loss: 1.3699\n",
            "Epoch [300/10000], Loss: 0.0470\n",
            "Epoch [400/10000], Loss: 0.0130\n",
            "Epoch [500/10000], Loss: 0.0161\n",
            "Epoch [600/10000], Loss: 0.0020\n",
            "Epoch [700/10000], Loss: 0.0009\n",
            "Epoch [800/10000], Loss: 0.0010\n",
            "Epoch [900/10000], Loss: 0.0022\n",
            "Epoch [1000/10000], Loss: 0.0003\n",
            "Epoch [1100/10000], Loss: 0.0001\n",
            "Epoch [1200/10000], Loss: 0.0003\n",
            "Epoch [1300/10000], Loss: 0.0008\n",
            "Epoch [1400/10000], Loss: 0.0001\n",
            "Epoch [1500/10000], Loss: 0.0001\n",
            "Epoch [1600/10000], Loss: 0.0001\n",
            "Epoch [1700/10000], Loss: 0.0000\n",
            "Epoch [1800/10000], Loss: 0.0001\n",
            "Epoch [1900/10000], Loss: 0.0000\n",
            "Epoch [2000/10000], Loss: 0.0000\n",
            "Epoch [2100/10000], Loss: 0.0000\n",
            "Epoch [2200/10000], Loss: 0.0000\n",
            "Epoch [2300/10000], Loss: 0.0000\n",
            "Epoch [2400/10000], Loss: 0.0000\n",
            "Epoch [2500/10000], Loss: 0.0000\n",
            "Epoch [2600/10000], Loss: 0.0000\n",
            "Epoch [2700/10000], Loss: 0.0000\n",
            "Epoch [2800/10000], Loss: 0.0000\n",
            "Epoch [2900/10000], Loss: 0.0000\n",
            "Epoch [3000/10000], Loss: 0.0000\n",
            "Epoch [3100/10000], Loss: 0.0000\n",
            "Epoch [3200/10000], Loss: 0.0000\n",
            "Epoch [3300/10000], Loss: 0.0000\n",
            "Epoch [3400/10000], Loss: 0.0000\n",
            "Epoch [3500/10000], Loss: 0.0000\n",
            "Epoch [3600/10000], Loss: 0.0000\n",
            "Epoch [3700/10000], Loss: 0.0000\n",
            "Epoch [3800/10000], Loss: 0.0000\n",
            "Epoch [3900/10000], Loss: 0.0000\n",
            "Epoch [4000/10000], Loss: 0.0000\n",
            "Epoch [4100/10000], Loss: 0.0000\n",
            "Epoch [4200/10000], Loss: 0.0000\n",
            "Epoch [4300/10000], Loss: 0.0000\n",
            "Epoch [4400/10000], Loss: 0.0000\n",
            "Epoch [4500/10000], Loss: 0.0000\n",
            "Epoch [4600/10000], Loss: 0.0000\n",
            "Epoch [4700/10000], Loss: 0.0000\n",
            "Epoch [4800/10000], Loss: 0.0000\n",
            "Epoch [4900/10000], Loss: 0.0000\n",
            "Epoch [5000/10000], Loss: 0.0000\n",
            "Epoch [5100/10000], Loss: 0.0000\n",
            "Epoch [5200/10000], Loss: 0.0000\n",
            "Epoch [5300/10000], Loss: 0.0000\n",
            "Epoch [5400/10000], Loss: 0.0000\n",
            "Epoch [5500/10000], Loss: 0.0000\n",
            "Epoch [5600/10000], Loss: 0.0000\n",
            "Epoch [5700/10000], Loss: 0.0000\n",
            "Epoch [5800/10000], Loss: 0.0000\n",
            "Epoch [5900/10000], Loss: 0.0000\n",
            "Epoch [6000/10000], Loss: 0.0000\n",
            "Epoch [6100/10000], Loss: 0.0000\n",
            "Epoch [6200/10000], Loss: 0.0000\n",
            "Epoch [6300/10000], Loss: 0.0000\n",
            "Epoch [6400/10000], Loss: 0.0000\n",
            "Epoch [6500/10000], Loss: 0.0000\n",
            "Epoch [6600/10000], Loss: 0.0000\n",
            "Epoch [6700/10000], Loss: 0.0000\n",
            "Epoch [6800/10000], Loss: 0.0000\n",
            "Epoch [6900/10000], Loss: 0.0000\n",
            "Epoch [7000/10000], Loss: 0.0000\n",
            "Epoch [7100/10000], Loss: 0.0000\n",
            "Epoch [7200/10000], Loss: 0.0000\n",
            "Epoch [7300/10000], Loss: 0.0000\n",
            "Epoch [7400/10000], Loss: 0.0000\n",
            "Epoch [7500/10000], Loss: 0.0000\n",
            "Epoch [7600/10000], Loss: 0.0000\n",
            "Epoch [7700/10000], Loss: 0.0000\n",
            "Epoch [7800/10000], Loss: 0.0000\n",
            "Epoch [7900/10000], Loss: 0.0000\n",
            "Epoch [8000/10000], Loss: 0.0000\n",
            "Epoch [8100/10000], Loss: 0.0000\n",
            "Epoch [8200/10000], Loss: 0.0000\n",
            "Epoch [8300/10000], Loss: 0.0000\n",
            "Epoch [8400/10000], Loss: 0.0000\n",
            "Epoch [8500/10000], Loss: 0.0000\n",
            "Epoch [8600/10000], Loss: 0.0000\n",
            "Epoch [8700/10000], Loss: 0.0000\n",
            "Epoch [8800/10000], Loss: 0.0000\n",
            "Epoch [8900/10000], Loss: 0.0000\n",
            "Epoch [9000/10000], Loss: 0.0000\n",
            "Epoch [9100/10000], Loss: 0.0000\n",
            "Epoch [9200/10000], Loss: 0.0000\n",
            "Epoch [9300/10000], Loss: 0.0000\n",
            "Epoch [9400/10000], Loss: 0.0000\n",
            "Epoch [9500/10000], Loss: 0.0000\n",
            "Epoch [9600/10000], Loss: 0.0000\n",
            "Epoch [9700/10000], Loss: 0.0000\n",
            "Epoch [9800/10000], Loss: 0.0000\n",
            "Epoch [9900/10000], Loss: 0.0000\n",
            "Epoch [10000/10000], Loss: 0.0000\n",
            "final loss: 0.0000\n",
            "training complete. file saved to data.pth\n"
          ]
        }
      ]
    },
    {
      "cell_type": "markdown",
      "source": [
        "**Saving the model, parameters, and processed data:**"
      ],
      "metadata": {
        "id": "fIJ2nO_157xp"
      }
    },
    {
      "cell_type": "code",
      "source": [
        "data = {\n",
        "\"model_state\": model.state_dict(),\n",
        "\"input_size\": input_size,\n",
        "\"hidden_size\": hidden_size,\n",
        "\"output_size\": output_size,\n",
        "\"all_words\": all_words,\n",
        "\"tags\": tags\n",
        "}\n",
        "\n",
        "FILE = \"data.pth\"\n",
        "torch.save(data, FILE)\n",
        "\n",
        "print(f'training complete. file saved to {FILE}')"
      ],
      "metadata": {
        "id": "rWpRL8ts5-Bw"
      },
      "execution_count": null,
      "outputs": []
    },
    {
      "cell_type": "markdown",
      "source": [
        "**Loading the model:**"
      ],
      "metadata": {
        "id": "Q7vjlsrm6AIx"
      }
    },
    {
      "cell_type": "code",
      "source": [
        "FILE = \"data.pth\"\n",
        "data = torch.load(FILE)\n",
        "\n",
        "input_size = data[\"input_size\"]\n",
        "hidden_size = data[\"hidden_size\"]\n",
        "output_size = data[\"output_size\"]\n",
        "all_words = data['all_words']\n",
        "tags = data['tags']\n",
        "model_state = data[\"model_state\"]\n",
        "\n",
        "model = NeuralNet(input_size, hidden_size, output_size).to(device)\n",
        "model.load_state_dict(model_state)"
      ],
      "metadata": {
        "id": "S4r1HoPd6CjQ"
      },
      "execution_count": null,
      "outputs": []
    },
    {
      "cell_type": "markdown",
      "source": [
        "**Testing our traind bot:**"
      ],
      "metadata": {
        "id": "qOlaxIvf6Tsg"
      }
    },
    {
      "cell_type": "code",
      "source": [
        "\n",
        "model.eval()\n",
        "\n",
        "bot_name = \"bot\"\n",
        "print(\"Let's chat! (type 'quit' to exit)\")\n",
        "while True:\n",
        "    sentence = input(\"You: \")\n",
        "    if sentence == \"quit\":\n",
        "        break\n",
        "\n",
        "    sentence = tokenize(sentence)\n",
        "    X = bag_of_words(sentence, all_words)\n",
        "    X = X.reshape(1, X.shape[0])\n",
        "    X = torch.from_numpy(X).to(device)\n",
        "\n",
        "    output = model(X)\n",
        "    _, predicted = torch.max(output, dim=1)\n",
        "\n",
        "    tag = tags[predicted.item()]\n",
        "\n",
        "    probs = torch.softmax(output, dim=1)\n",
        "    prob = probs[0][predicted.item()]\n",
        "    if prob.item() > 0.8:\n",
        "        for intent in intents['intents']:\n",
        "            if tag == intent[\"tag\"]:\n",
        "                print(f\"{bot_name}: {random.choice(intent['responses'])}\")\n",
        "    else:\n",
        "        print(f\"{bot_name}: I do not understand...\")"
      ],
      "metadata": {
        "colab": {
          "base_uri": "https://localhost:8080/"
        },
        "id": "ctqO7mJOxNQC",
        "outputId": "c58090db-1cc7-4639-82ca-3cb56f428c18"
      },
      "execution_count": 48,
      "outputs": [
        {
          "name": "stdout",
          "output_type": "stream",
          "text": [
            "Let's chat! (type 'quit' to exit)\n",
            "You: Hi\n",
            "bot: Hi there, how can I help?\n",
            "You: Are you selling coffee?\n",
            "bot: We have coffee and tea\n",
            "You: Do you accept AMEX?\n",
            "bot: We accept VISA, Mastercard and Paypal\n",
            "You: My last question, how does the delivery take?\n",
            "bot: Shipping takes 2-4 days\n",
            "You: perfect. Thank you!\n",
            "bot: Happy to help!\n",
            "You: bye\n",
            "bot: See you later, thanks for visiting\n",
            "You: quit\n"
          ]
        }
      ]
    }
  ]
}